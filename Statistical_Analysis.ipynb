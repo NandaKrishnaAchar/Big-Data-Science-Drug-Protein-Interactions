{
 "cells": [
  {
   "cell_type": "code",
   "execution_count": 179,
   "id": "5fdb9a5f-d383-4fd4-ac7e-2698f2f72019",
   "metadata": {},
   "outputs": [
    {
     "name": "stderr",
     "output_type": "stream",
     "text": [
      "/var/folders/q9/9xm1_d2s70s_3vxtd8hlfv3m0000gn/T/ipykernel_92283/3587265590.py:10: DtypeWarning: Columns (12) have mixed types. Specify dtype option on import or set low_memory=False.\n",
      "  df = pd.read_csv(\"filtered_data.csv\")\n",
      "/var/folders/q9/9xm1_d2s70s_3vxtd8hlfv3m0000gn/T/ipykernel_92283/3587265590.py:25: PerformanceWarning: DataFrame is highly fragmented.  This is usually the result of calling `frame.insert` many times, which has poor performance.  Consider joining all columns at once using pd.concat(axis=1) instead. To get a de-fragmented frame, use `newframe = frame.copy()`\n",
      "  df['Log_Median_Abundance'] = df[dmso_columns].median(axis=1, skipna=True)\n",
      "/var/folders/q9/9xm1_d2s70s_3vxtd8hlfv3m0000gn/T/ipykernel_92283/3587265590.py:26: PerformanceWarning: DataFrame is highly fragmented.  This is usually the result of calling `frame.insert` many times, which has poor performance.  Consider joining all columns at once using pd.concat(axis=1) instead. To get a de-fragmented frame, use `newframe = frame.copy()`\n",
      "  df['Log_StdDev_Abundance'] = df[dmso_columns].std(axis=1, skipna=True)\n",
      "/opt/anaconda3/lib/python3.12/site-packages/seaborn/matrix.py:560: UserWarning: Clustering large matrix with scipy. Installing `fastcluster` may give better performance.\n",
      "  warnings.warn(msg)\n",
      "/opt/anaconda3/lib/python3.12/site-packages/seaborn/matrix.py:560: UserWarning: Clustering large matrix with scipy. Installing `fastcluster` may give better performance.\n",
      "  warnings.warn(msg)\n"
     ]
    },
    {
     "name": "stdout",
     "output_type": "stream",
     "text": [
      "✅ abemaciclib: 1124 peptides clustered into 2 groups (score=0.33)\n"
     ]
    },
    {
     "name": "stderr",
     "output_type": "stream",
     "text": [
      "/opt/anaconda3/lib/python3.12/site-packages/seaborn/matrix.py:560: UserWarning: Clustering large matrix with scipy. Installing `fastcluster` may give better performance.\n",
      "  warnings.warn(msg)\n",
      "/opt/anaconda3/lib/python3.12/site-packages/seaborn/matrix.py:560: UserWarning: Clustering large matrix with scipy. Installing `fastcluster` may give better performance.\n",
      "  warnings.warn(msg)\n"
     ]
    },
    {
     "name": "stdout",
     "output_type": "stream",
     "text": [
      "✅ aew541: 1613 peptides clustered into 2 groups (score=0.65)\n"
     ]
    },
    {
     "name": "stderr",
     "output_type": "stream",
     "text": [
      "/opt/anaconda3/lib/python3.12/site-packages/seaborn/matrix.py:560: UserWarning: Clustering large matrix with scipy. Installing `fastcluster` may give better performance.\n",
      "  warnings.warn(msg)\n",
      "/opt/anaconda3/lib/python3.12/site-packages/seaborn/matrix.py:560: UserWarning: Clustering large matrix with scipy. Installing `fastcluster` may give better performance.\n",
      "  warnings.warn(msg)\n"
     ]
    },
    {
     "name": "stdout",
     "output_type": "stream",
     "text": [
      "✅ afatib: 2006 peptides clustered into 2 groups (score=0.46)\n"
     ]
    },
    {
     "name": "stderr",
     "output_type": "stream",
     "text": [
      "/opt/anaconda3/lib/python3.12/site-packages/seaborn/matrix.py:560: UserWarning: Clustering large matrix with scipy. Installing `fastcluster` may give better performance.\n",
      "  warnings.warn(msg)\n",
      "/opt/anaconda3/lib/python3.12/site-packages/seaborn/matrix.py:560: UserWarning: Clustering large matrix with scipy. Installing `fastcluster` may give better performance.\n",
      "  warnings.warn(msg)\n"
     ]
    },
    {
     "name": "stdout",
     "output_type": "stream",
     "text": [
      "✅ alectib: 2226 peptides clustered into 2 groups (score=0.85)\n"
     ]
    },
    {
     "name": "stderr",
     "output_type": "stream",
     "text": [
      "/opt/anaconda3/lib/python3.12/site-packages/seaborn/matrix.py:560: UserWarning: Clustering large matrix with scipy. Installing `fastcluster` may give better performance.\n",
      "  warnings.warn(msg)\n",
      "/opt/anaconda3/lib/python3.12/site-packages/seaborn/matrix.py:560: UserWarning: Clustering large matrix with scipy. Installing `fastcluster` may give better performance.\n",
      "  warnings.warn(msg)\n"
     ]
    },
    {
     "name": "stdout",
     "output_type": "stream",
     "text": [
      "✅ alisertib: 2249 peptides clustered into 2 groups (score=0.52)\n"
     ]
    },
    {
     "name": "stderr",
     "output_type": "stream",
     "text": [
      "/opt/anaconda3/lib/python3.12/site-packages/seaborn/matrix.py:560: UserWarning: Clustering large matrix with scipy. Installing `fastcluster` may give better performance.\n",
      "  warnings.warn(msg)\n",
      "/opt/anaconda3/lib/python3.12/site-packages/seaborn/matrix.py:560: UserWarning: Clustering large matrix with scipy. Installing `fastcluster` may give better performance.\n",
      "  warnings.warn(msg)\n"
     ]
    },
    {
     "name": "stdout",
     "output_type": "stream",
     "text": [
      "✅ alvocidib: 1719 peptides clustered into 3 groups (score=0.20)\n"
     ]
    },
    {
     "name": "stderr",
     "output_type": "stream",
     "text": [
      "/opt/anaconda3/lib/python3.12/site-packages/seaborn/matrix.py:560: UserWarning: Clustering large matrix with scipy. Installing `fastcluster` may give better performance.\n",
      "  warnings.warn(msg)\n",
      "/opt/anaconda3/lib/python3.12/site-packages/seaborn/matrix.py:560: UserWarning: Clustering large matrix with scipy. Installing `fastcluster` may give better performance.\n",
      "  warnings.warn(msg)\n"
     ]
    },
    {
     "name": "stdout",
     "output_type": "stream",
     "text": [
      "✅ amg208: 2057 peptides clustered into 2 groups (score=0.69)\n",
      "✅ amg900: 7 peptides clustered into 2 groups (score=0.55)\n"
     ]
    },
    {
     "name": "stderr",
     "output_type": "stream",
     "text": [
      "/opt/anaconda3/lib/python3.12/site-packages/seaborn/matrix.py:560: UserWarning: Clustering large matrix with scipy. Installing `fastcluster` may give better performance.\n",
      "  warnings.warn(msg)\n",
      "/opt/anaconda3/lib/python3.12/site-packages/seaborn/matrix.py:560: UserWarning: Clustering large matrix with scipy. Installing `fastcluster` may give better performance.\n",
      "  warnings.warn(msg)\n"
     ]
    },
    {
     "name": "stdout",
     "output_type": "stream",
     "text": [
      "✅ amuvatib: 1978 peptides clustered into 5 groups (score=0.42)\n"
     ]
    },
    {
     "name": "stderr",
     "output_type": "stream",
     "text": [
      "/opt/anaconda3/lib/python3.12/site-packages/seaborn/matrix.py:560: UserWarning: Clustering large matrix with scipy. Installing `fastcluster` may give better performance.\n",
      "  warnings.warn(msg)\n",
      "/opt/anaconda3/lib/python3.12/site-packages/seaborn/matrix.py:560: UserWarning: Clustering large matrix with scipy. Installing `fastcluster` may give better performance.\n",
      "  warnings.warn(msg)\n"
     ]
    },
    {
     "name": "stdout",
     "output_type": "stream",
     "text": [
      "✅ apatib: 2248 peptides clustered into 2 groups (score=0.20)\n"
     ]
    },
    {
     "name": "stderr",
     "output_type": "stream",
     "text": [
      "/opt/anaconda3/lib/python3.12/site-packages/seaborn/matrix.py:560: UserWarning: Clustering large matrix with scipy. Installing `fastcluster` may give better performance.\n",
      "  warnings.warn(msg)\n",
      "/opt/anaconda3/lib/python3.12/site-packages/seaborn/matrix.py:560: UserWarning: Clustering large matrix with scipy. Installing `fastcluster` may give better performance.\n",
      "  warnings.warn(msg)\n"
     ]
    },
    {
     "name": "stdout",
     "output_type": "stream",
     "text": [
      "✅ apitolisib: 1614 peptides clustered into 2 groups (score=0.43)\n"
     ]
    },
    {
     "name": "stderr",
     "output_type": "stream",
     "text": [
      "/opt/anaconda3/lib/python3.12/site-packages/seaborn/matrix.py:560: UserWarning: Clustering large matrix with scipy. Installing `fastcluster` may give better performance.\n",
      "  warnings.warn(msg)\n",
      "/opt/anaconda3/lib/python3.12/site-packages/seaborn/matrix.py:560: UserWarning: Clustering large matrix with scipy. Installing `fastcluster` may give better performance.\n",
      "  warnings.warn(msg)\n"
     ]
    },
    {
     "name": "stdout",
     "output_type": "stream",
     "text": [
      "✅ arry380: 1545 peptides clustered into 2 groups (score=0.69)\n"
     ]
    },
    {
     "name": "stderr",
     "output_type": "stream",
     "text": [
      "/opt/anaconda3/lib/python3.12/site-packages/seaborn/matrix.py:560: UserWarning: Clustering large matrix with scipy. Installing `fastcluster` may give better performance.\n",
      "  warnings.warn(msg)\n",
      "/opt/anaconda3/lib/python3.12/site-packages/seaborn/matrix.py:560: UserWarning: Clustering large matrix with scipy. Installing `fastcluster` may give better performance.\n",
      "  warnings.warn(msg)\n"
     ]
    },
    {
     "name": "stdout",
     "output_type": "stream",
     "text": [
      "✅ asp3026: 1345 peptides clustered into 2 groups (score=0.67)\n",
      "✅ at13148: 1061 peptides clustered into 2 groups (score=0.70)\n"
     ]
    },
    {
     "name": "stderr",
     "output_type": "stream",
     "text": [
      "/opt/anaconda3/lib/python3.12/site-packages/seaborn/matrix.py:560: UserWarning: Clustering large matrix with scipy. Installing `fastcluster` may give better performance.\n",
      "  warnings.warn(msg)\n",
      "/opt/anaconda3/lib/python3.12/site-packages/seaborn/matrix.py:560: UserWarning: Clustering large matrix with scipy. Installing `fastcluster` may give better performance.\n",
      "  warnings.warn(msg)\n"
     ]
    },
    {
     "name": "stdout",
     "output_type": "stream",
     "text": [
      "✅ at7519: 1746 peptides clustered into 2 groups (score=0.74)\n"
     ]
    },
    {
     "name": "stderr",
     "output_type": "stream",
     "text": [
      "/opt/anaconda3/lib/python3.12/site-packages/seaborn/matrix.py:560: UserWarning: Clustering large matrix with scipy. Installing `fastcluster` may give better performance.\n",
      "  warnings.warn(msg)\n",
      "/opt/anaconda3/lib/python3.12/site-packages/seaborn/matrix.py:560: UserWarning: Clustering large matrix with scipy. Installing `fastcluster` may give better performance.\n",
      "  warnings.warn(msg)\n"
     ]
    },
    {
     "name": "stdout",
     "output_type": "stream",
     "text": [
      "✅ at9283: 1667 peptides clustered into 4 groups (score=0.59)\n"
     ]
    },
    {
     "name": "stderr",
     "output_type": "stream",
     "text": [
      "/opt/anaconda3/lib/python3.12/site-packages/seaborn/matrix.py:560: UserWarning: Clustering large matrix with scipy. Installing `fastcluster` may give better performance.\n",
      "  warnings.warn(msg)\n",
      "/opt/anaconda3/lib/python3.12/site-packages/seaborn/matrix.py:560: UserWarning: Clustering large matrix with scipy. Installing `fastcluster` may give better performance.\n",
      "  warnings.warn(msg)\n"
     ]
    },
    {
     "name": "stdout",
     "output_type": "stream",
     "text": [
      "✅ av412: 1794 peptides clustered into 4 groups (score=0.27)\n"
     ]
    },
    {
     "name": "stderr",
     "output_type": "stream",
     "text": [
      "/opt/anaconda3/lib/python3.12/site-packages/seaborn/matrix.py:560: UserWarning: Clustering large matrix with scipy. Installing `fastcluster` may give better performance.\n",
      "  warnings.warn(msg)\n",
      "/opt/anaconda3/lib/python3.12/site-packages/seaborn/matrix.py:560: UserWarning: Clustering large matrix with scipy. Installing `fastcluster` may give better performance.\n",
      "  warnings.warn(msg)\n"
     ]
    },
    {
     "name": "stdout",
     "output_type": "stream",
     "text": [
      "✅ axitib: 2289 peptides clustered into 2 groups (score=0.36)\n"
     ]
    },
    {
     "name": "stderr",
     "output_type": "stream",
     "text": [
      "/opt/anaconda3/lib/python3.12/site-packages/seaborn/matrix.py:560: UserWarning: Clustering large matrix with scipy. Installing `fastcluster` may give better performance.\n",
      "  warnings.warn(msg)\n",
      "/opt/anaconda3/lib/python3.12/site-packages/seaborn/matrix.py:560: UserWarning: Clustering large matrix with scipy. Installing `fastcluster` may give better performance.\n",
      "  warnings.warn(msg)\n"
     ]
    },
    {
     "name": "stdout",
     "output_type": "stream",
     "text": [
      "✅ axl1717: 1790 peptides clustered into 2 groups (score=0.65)\n"
     ]
    },
    {
     "name": "stderr",
     "output_type": "stream",
     "text": [
      "/opt/anaconda3/lib/python3.12/site-packages/seaborn/matrix.py:560: UserWarning: Clustering large matrix with scipy. Installing `fastcluster` may give better performance.\n",
      "  warnings.warn(msg)\n",
      "/opt/anaconda3/lib/python3.12/site-packages/seaborn/matrix.py:560: UserWarning: Clustering large matrix with scipy. Installing `fastcluster` may give better performance.\n",
      "  warnings.warn(msg)\n"
     ]
    },
    {
     "name": "stdout",
     "output_type": "stream",
     "text": [
      "✅ azd1208: 1492 peptides clustered into 2 groups (score=0.52)\n"
     ]
    },
    {
     "name": "stderr",
     "output_type": "stream",
     "text": [
      "/opt/anaconda3/lib/python3.12/site-packages/seaborn/matrix.py:560: UserWarning: Clustering large matrix with scipy. Installing `fastcluster` may give better performance.\n",
      "  warnings.warn(msg)\n",
      "/opt/anaconda3/lib/python3.12/site-packages/seaborn/matrix.py:560: UserWarning: Clustering large matrix with scipy. Installing `fastcluster` may give better performance.\n",
      "  warnings.warn(msg)\n"
     ]
    },
    {
     "name": "stdout",
     "output_type": "stream",
     "text": [
      "✅ azd1480: 1739 peptides clustered into 4 groups (score=0.40)\n"
     ]
    },
    {
     "name": "stderr",
     "output_type": "stream",
     "text": [
      "/opt/anaconda3/lib/python3.12/site-packages/seaborn/matrix.py:560: UserWarning: Clustering large matrix with scipy. Installing `fastcluster` may give better performance.\n",
      "  warnings.warn(msg)\n",
      "/opt/anaconda3/lib/python3.12/site-packages/seaborn/matrix.py:560: UserWarning: Clustering large matrix with scipy. Installing `fastcluster` may give better performance.\n",
      "  warnings.warn(msg)\n"
     ]
    },
    {
     "name": "stdout",
     "output_type": "stream",
     "text": [
      "✅ azd2014: 1952 peptides clustered into 2 groups (score=0.91)\n"
     ]
    },
    {
     "name": "stderr",
     "output_type": "stream",
     "text": [
      "/opt/anaconda3/lib/python3.12/site-packages/seaborn/matrix.py:560: UserWarning: Clustering large matrix with scipy. Installing `fastcluster` may give better performance.\n",
      "  warnings.warn(msg)\n",
      "/opt/anaconda3/lib/python3.12/site-packages/seaborn/matrix.py:560: UserWarning: Clustering large matrix with scipy. Installing `fastcluster` may give better performance.\n",
      "  warnings.warn(msg)\n"
     ]
    },
    {
     "name": "stdout",
     "output_type": "stream",
     "text": [
      "✅ azd4547: 2209 peptides clustered into 2 groups (score=0.65)\n"
     ]
    },
    {
     "name": "stderr",
     "output_type": "stream",
     "text": [
      "/opt/anaconda3/lib/python3.12/site-packages/seaborn/matrix.py:560: UserWarning: Clustering large matrix with scipy. Installing `fastcluster` may give better performance.\n",
      "  warnings.warn(msg)\n",
      "/opt/anaconda3/lib/python3.12/site-packages/seaborn/matrix.py:560: UserWarning: Clustering large matrix with scipy. Installing `fastcluster` may give better performance.\n",
      "  warnings.warn(msg)\n"
     ]
    },
    {
     "name": "stdout",
     "output_type": "stream",
     "text": [
      "✅ azd5363: 1886 peptides clustered into 2 groups (score=0.61)\n",
      "✅ azd5438: 25 peptides clustered into 2 groups (score=0.72)\n"
     ]
    },
    {
     "name": "stderr",
     "output_type": "stream",
     "text": [
      "/opt/anaconda3/lib/python3.12/site-packages/seaborn/matrix.py:560: UserWarning: Clustering large matrix with scipy. Installing `fastcluster` may give better performance.\n",
      "  warnings.warn(msg)\n",
      "/opt/anaconda3/lib/python3.12/site-packages/seaborn/matrix.py:560: UserWarning: Clustering large matrix with scipy. Installing `fastcluster` may give better performance.\n",
      "  warnings.warn(msg)\n"
     ]
    },
    {
     "name": "stdout",
     "output_type": "stream",
     "text": [
      "✅ azd6482: 2084 peptides clustered into 2 groups (score=0.38)\n"
     ]
    },
    {
     "name": "stderr",
     "output_type": "stream",
     "text": [
      "/opt/anaconda3/lib/python3.12/site-packages/seaborn/matrix.py:560: UserWarning: Clustering large matrix with scipy. Installing `fastcluster` may give better performance.\n",
      "  warnings.warn(msg)\n",
      "/opt/anaconda3/lib/python3.12/site-packages/seaborn/matrix.py:560: UserWarning: Clustering large matrix with scipy. Installing `fastcluster` may give better performance.\n",
      "  warnings.warn(msg)\n"
     ]
    },
    {
     "name": "stdout",
     "output_type": "stream",
     "text": [
      "✅ azd7762: 1856 peptides clustered into 4 groups (score=0.26)\n"
     ]
    },
    {
     "name": "stderr",
     "output_type": "stream",
     "text": [
      "/opt/anaconda3/lib/python3.12/site-packages/seaborn/matrix.py:560: UserWarning: Clustering large matrix with scipy. Installing `fastcluster` may give better performance.\n",
      "  warnings.warn(msg)\n",
      "/opt/anaconda3/lib/python3.12/site-packages/seaborn/matrix.py:560: UserWarning: Clustering large matrix with scipy. Installing `fastcluster` may give better performance.\n",
      "  warnings.warn(msg)\n"
     ]
    },
    {
     "name": "stdout",
     "output_type": "stream",
     "text": [
      "✅ azd8055: 1935 peptides clustered into 2 groups (score=0.60)\n"
     ]
    },
    {
     "name": "stderr",
     "output_type": "stream",
     "text": [
      "/opt/anaconda3/lib/python3.12/site-packages/seaborn/matrix.py:560: UserWarning: Clustering large matrix with scipy. Installing `fastcluster` may give better performance.\n",
      "  warnings.warn(msg)\n",
      "/opt/anaconda3/lib/python3.12/site-packages/seaborn/matrix.py:560: UserWarning: Clustering large matrix with scipy. Installing `fastcluster` may give better performance.\n",
      "  warnings.warn(msg)\n"
     ]
    },
    {
     "name": "stdout",
     "output_type": "stream",
     "text": [
      "✅ azd8186: 1686 peptides clustered into 2 groups (score=0.46)\n"
     ]
    },
    {
     "name": "stderr",
     "output_type": "stream",
     "text": [
      "/opt/anaconda3/lib/python3.12/site-packages/seaborn/matrix.py:560: UserWarning: Clustering large matrix with scipy. Installing `fastcluster` may give better performance.\n",
      "  warnings.warn(msg)\n",
      "/opt/anaconda3/lib/python3.12/site-packages/seaborn/matrix.py:560: UserWarning: Clustering large matrix with scipy. Installing `fastcluster` may give better performance.\n",
      "  warnings.warn(msg)\n"
     ]
    },
    {
     "name": "stdout",
     "output_type": "stream",
     "text": [
      "✅ azd8330: 2114 peptides clustered into 2 groups (score=0.29)\n"
     ]
    },
    {
     "name": "stderr",
     "output_type": "stream",
     "text": [
      "/opt/anaconda3/lib/python3.12/site-packages/seaborn/matrix.py:560: UserWarning: Clustering large matrix with scipy. Installing `fastcluster` may give better performance.\n",
      "  warnings.warn(msg)\n",
      "/opt/anaconda3/lib/python3.12/site-packages/seaborn/matrix.py:560: UserWarning: Clustering large matrix with scipy. Installing `fastcluster` may give better performance.\n",
      "  warnings.warn(msg)\n"
     ]
    },
    {
     "name": "stdout",
     "output_type": "stream",
     "text": [
      "✅ bafetib: 1918 peptides clustered into 2 groups (score=0.51)\n"
     ]
    },
    {
     "name": "stderr",
     "output_type": "stream",
     "text": [
      "/opt/anaconda3/lib/python3.12/site-packages/seaborn/matrix.py:560: UserWarning: Clustering large matrix with scipy. Installing `fastcluster` may give better performance.\n",
      "  warnings.warn(msg)\n",
      "/opt/anaconda3/lib/python3.12/site-packages/seaborn/matrix.py:560: UserWarning: Clustering large matrix with scipy. Installing `fastcluster` may give better performance.\n",
      "  warnings.warn(msg)\n"
     ]
    },
    {
     "name": "stdout",
     "output_type": "stream",
     "text": [
      "✅ barasertib: 1369 peptides clustered into 2 groups (score=0.44)\n"
     ]
    },
    {
     "name": "stderr",
     "output_type": "stream",
     "text": [
      "/opt/anaconda3/lib/python3.12/site-packages/seaborn/matrix.py:560: UserWarning: Clustering large matrix with scipy. Installing `fastcluster` may give better performance.\n",
      "  warnings.warn(msg)\n",
      "/opt/anaconda3/lib/python3.12/site-packages/seaborn/matrix.py:560: UserWarning: Clustering large matrix with scipy. Installing `fastcluster` may give better performance.\n",
      "  warnings.warn(msg)\n"
     ]
    },
    {
     "name": "stdout",
     "output_type": "stream",
     "text": [
      "✅ barasertibhqpa: 1806 peptides clustered into 2 groups (score=0.26)\n"
     ]
    },
    {
     "name": "stderr",
     "output_type": "stream",
     "text": [
      "/opt/anaconda3/lib/python3.12/site-packages/seaborn/matrix.py:560: UserWarning: Clustering large matrix with scipy. Installing `fastcluster` may give better performance.\n",
      "  warnings.warn(msg)\n",
      "/opt/anaconda3/lib/python3.12/site-packages/seaborn/matrix.py:560: UserWarning: Clustering large matrix with scipy. Installing `fastcluster` may give better performance.\n",
      "  warnings.warn(msg)\n"
     ]
    },
    {
     "name": "stdout",
     "output_type": "stream",
     "text": [
      "✅ baricitib: 1799 peptides clustered into 2 groups (score=0.86)\n"
     ]
    },
    {
     "name": "stderr",
     "output_type": "stream",
     "text": [
      "/opt/anaconda3/lib/python3.12/site-packages/seaborn/matrix.py:560: UserWarning: Clustering large matrix with scipy. Installing `fastcluster` may give better performance.\n",
      "  warnings.warn(msg)\n",
      "/opt/anaconda3/lib/python3.12/site-packages/seaborn/matrix.py:560: UserWarning: Clustering large matrix with scipy. Installing `fastcluster` may give better performance.\n",
      "  warnings.warn(msg)\n"
     ]
    },
    {
     "name": "stdout",
     "output_type": "stream",
     "text": [
      "✅ bgt226: 1691 peptides clustered into 3 groups (score=0.47)\n",
      "⚠️ Skipped bi2536 — not enough valid peptides.\n"
     ]
    },
    {
     "name": "stderr",
     "output_type": "stream",
     "text": [
      "/opt/anaconda3/lib/python3.12/site-packages/seaborn/matrix.py:560: UserWarning: Clustering large matrix with scipy. Installing `fastcluster` may give better performance.\n",
      "  warnings.warn(msg)\n",
      "/opt/anaconda3/lib/python3.12/site-packages/seaborn/matrix.py:560: UserWarning: Clustering large matrix with scipy. Installing `fastcluster` may give better performance.\n",
      "  warnings.warn(msg)\n"
     ]
    },
    {
     "name": "stdout",
     "output_type": "stream",
     "text": [
      "✅ bi847325: 1742 peptides clustered into 2 groups (score=0.39)\n"
     ]
    },
    {
     "name": "stderr",
     "output_type": "stream",
     "text": [
      "/opt/anaconda3/lib/python3.12/site-packages/seaborn/matrix.py:560: UserWarning: Clustering large matrix with scipy. Installing `fastcluster` may give better performance.\n",
      "  warnings.warn(msg)\n",
      "/opt/anaconda3/lib/python3.12/site-packages/seaborn/matrix.py:560: UserWarning: Clustering large matrix with scipy. Installing `fastcluster` may give better performance.\n",
      "  warnings.warn(msg)\n"
     ]
    },
    {
     "name": "stdout",
     "output_type": "stream",
     "text": [
      "✅ bms387032: 2134 peptides clustered into 2 groups (score=0.23)\n"
     ]
    },
    {
     "name": "stderr",
     "output_type": "stream",
     "text": [
      "/opt/anaconda3/lib/python3.12/site-packages/seaborn/matrix.py:560: UserWarning: Clustering large matrix with scipy. Installing `fastcluster` may give better performance.\n",
      "  warnings.warn(msg)\n",
      "/opt/anaconda3/lib/python3.12/site-packages/seaborn/matrix.py:560: UserWarning: Clustering large matrix with scipy. Installing `fastcluster` may give better performance.\n",
      "  warnings.warn(msg)\n"
     ]
    },
    {
     "name": "stdout",
     "output_type": "stream",
     "text": [
      "✅ bms690514: 1282 peptides clustered into 2 groups (score=0.55)\n"
     ]
    },
    {
     "name": "stderr",
     "output_type": "stream",
     "text": [
      "/opt/anaconda3/lib/python3.12/site-packages/seaborn/matrix.py:560: UserWarning: Clustering large matrix with scipy. Installing `fastcluster` may give better performance.\n",
      "  warnings.warn(msg)\n",
      "/opt/anaconda3/lib/python3.12/site-packages/seaborn/matrix.py:560: UserWarning: Clustering large matrix with scipy. Installing `fastcluster` may give better performance.\n",
      "  warnings.warn(msg)\n"
     ]
    },
    {
     "name": "stdout",
     "output_type": "stream",
     "text": [
      "✅ bms754807: 1337 peptides clustered into 2 groups (score=0.34)\n"
     ]
    },
    {
     "name": "stderr",
     "output_type": "stream",
     "text": [
      "/opt/anaconda3/lib/python3.12/site-packages/seaborn/matrix.py:560: UserWarning: Clustering large matrix with scipy. Installing `fastcluster` may give better performance.\n",
      "  warnings.warn(msg)\n",
      "/opt/anaconda3/lib/python3.12/site-packages/seaborn/matrix.py:560: UserWarning: Clustering large matrix with scipy. Installing `fastcluster` may give better performance.\n",
      "  warnings.warn(msg)\n"
     ]
    },
    {
     "name": "stdout",
     "output_type": "stream",
     "text": [
      "✅ bms777607: 1145 peptides clustered into 2 groups (score=0.41)\n",
      "✅ bms911543: 837 peptides clustered into 2 groups (score=0.90)\n"
     ]
    },
    {
     "name": "stderr",
     "output_type": "stream",
     "text": [
      "/opt/anaconda3/lib/python3.12/site-packages/seaborn/matrix.py:560: UserWarning: Clustering large matrix with scipy. Installing `fastcluster` may give better performance.\n",
      "  warnings.warn(msg)\n",
      "/opt/anaconda3/lib/python3.12/site-packages/seaborn/matrix.py:560: UserWarning: Clustering large matrix with scipy. Installing `fastcluster` may give better performance.\n",
      "  warnings.warn(msg)\n"
     ]
    },
    {
     "name": "stdout",
     "output_type": "stream",
     "text": [
      "✅ byl719: 1661 peptides clustered into 2 groups (score=0.57)\n"
     ]
    }
   ],
   "source": [
    "import os\n",
    "import pandas as pd\n",
    "import numpy as np\n",
    "import seaborn as sns\n",
    "import matplotlib.pyplot as plt\n",
    "from scipy.cluster.hierarchy import linkage, fcluster\n",
    "from sklearn.metrics import silhouette_score\n",
    "\n",
    "# Load raw peptide abundance data\n",
    "df = pd.read_csv(\"filtered_data.csv\")\n",
    "\n",
    "# Identify drug concentration columns\n",
    "start_col = 'aew541_1000nm'\n",
    "start_idx = df.columns.get_loc(start_col)\n",
    "drug_columns = df.columns[start_idx:]\n",
    "filtered_drug_columns = [col for col in drug_columns if not col.endswith('_pdpd')]\n",
    "dmso_columns = [col for col in filtered_drug_columns if col.endswith('_dmso')]\n",
    "drug_names = sorted(set(col.split('_')[0] for col in filtered_drug_columns))\n",
    "\n",
    "# Step 1: Log-transform all abundance values\n",
    "for col in filtered_drug_columns:\n",
    "    df[col] = np.log(df[col])\n",
    "\n",
    "# Step 2: Compute DMSO log-median and log-std\n",
    "df['Log_Median_Abundance'] = df[dmso_columns].median(axis=1, skipna=True)\n",
    "df['Log_StdDev_Abundance'] = df[dmso_columns].std(axis=1, skipna=True)\n",
    "\n",
    "# Step 3: Compute z-score of each drug concentration\n",
    "for col in filtered_drug_columns:\n",
    "    df[col] = np.where(\n",
    "        np.isfinite(df['Log_StdDev_Abundance']) & (df['Log_StdDev_Abundance'] > 0),\n",
    "        (df[col] - df['Log_Median_Abundance']) / df['Log_StdDev_Abundance'],\n",
    "        np.nan\n",
    "    )\n",
    "\n",
    "# Output folders\n",
    "os.makedirs(\"drug_clustermaps\", exist_ok=True)\n",
    "os.makedirs(\"drug_cluster_csvs\", exist_ok=True)\n",
    "\n",
    "# Step 4: Cluster peptides per drug\n",
    "for drug in drug_names:  # remove [:2] to run on all drugs\n",
    "    cols = [col for col in filtered_drug_columns if col.startswith(drug)]\n",
    "    if len(cols) < 3:\n",
    "        continue\n",
    "\n",
    "    df_subset = df[df[cols].notna().sum(axis=1) >= 7].copy()\n",
    "    df_subset = df_subset[np.isfinite(df_subset[cols]).all(axis=1)]\n",
    "    if df_subset.empty or len(df_subset) < 5:\n",
    "        print(f\"⚠️ Skipped {drug} — not enough valid peptides.\")\n",
    "        continue\n",
    "\n",
    "    try:\n",
    "        linkage_matrix = linkage(df_subset[cols], method='average', metric='correlation')\n",
    "\n",
    "        # Find best number of clusters using silhouette score\n",
    "        best_k = None\n",
    "        best_score = -1\n",
    "        best_labels = None\n",
    "\n",
    "        for k in range(2, min(9, len(df_subset))):\n",
    "            labels = fcluster(linkage_matrix, t=k, criterion='maxclust')\n",
    "            try:\n",
    "                score = silhouette_score(df_subset[cols], labels, metric='correlation')\n",
    "                if score > best_score:\n",
    "                    best_k = k\n",
    "                    best_score = score\n",
    "                    best_labels = labels\n",
    "            except Exception:\n",
    "                continue\n",
    "\n",
    "        if best_labels is None:\n",
    "            print(f\"❌ Could not compute silhouette score for {drug}\")\n",
    "            continue\n",
    "\n",
    "        df_subset['Cluster'] = best_labels\n",
    "\n",
    "        # Save heatmap\n",
    "        cluster = sns.clustermap(\n",
    "            df_subset[cols],\n",
    "            method='average',\n",
    "            metric='correlation',\n",
    "            cmap='vlag',\n",
    "            figsize=(10, 8)\n",
    "        )\n",
    "        cluster.fig.suptitle(f\"{drug.upper()} Clustering (k={best_k}, score={best_score:.2f})\", y=1.02)\n",
    "        plt.savefig(f\"drug_clustermaps/{drug}_clustermap.png\", bbox_inches='tight')\n",
    "        plt.close()\n",
    "\n",
    "        # Save data with clusters\n",
    "        export_cols = ['Variant'] + ['Variant ID'] + ['Proteins'] + cols + ['Cluster']\n",
    "        df_subset[export_cols].to_csv(f\"drug_cluster_csvs/{drug}_peptide_clusters.csv\", index=False)\n",
    "        print(f\"✅ {drug}: {len(df_subset)} peptides clustered into {best_k} groups (score={best_score:.2f})\")\n",
    "\n",
    "    except Exception as e:\n",
    "        print(f\"❌ Error clustering {drug}: {e}\")\n"
   ]
  },
  {
   "cell_type": "code",
   "execution_count": 177,
   "id": "8d6f57b0-f255-4be5-b9e3-20364f9c3090",
   "metadata": {},
   "outputs": [
    {
     "data": {
      "text/html": [
       "<div>\n",
       "<style scoped>\n",
       "    .dataframe tbody tr th:only-of-type {\n",
       "        vertical-align: middle;\n",
       "    }\n",
       "\n",
       "    .dataframe tbody tr th {\n",
       "        vertical-align: top;\n",
       "    }\n",
       "\n",
       "    .dataframe thead th {\n",
       "        text-align: right;\n",
       "    }\n",
       "</style>\n",
       "<table border=\"1\" class=\"dataframe\">\n",
       "  <thead>\n",
       "    <tr style=\"text-align: right;\">\n",
       "      <th></th>\n",
       "      <th>rowid</th>\n",
       "      <th>ccms_row_id</th>\n",
       "      <th>Variant</th>\n",
       "      <th>Variant ID</th>\n",
       "      <th>Unmod variant</th>\n",
       "      <th>Total</th>\n",
       "      <th>Total- Unmodified sequence</th>\n",
       "      <th>Variants- Unmodified sequence</th>\n",
       "      <th>Proteins</th>\n",
       "      <th>Mass</th>\n",
       "      <th>...</th>\n",
       "      <th>baricitib_10nm</th>\n",
       "      <th>baricitib_30000nm</th>\n",
       "      <th>baricitib_3000nm</th>\n",
       "      <th>baricitib_300nm</th>\n",
       "      <th>baricitib_30nm</th>\n",
       "      <th>baricitib_3nm</th>\n",
       "      <th>baricitib_dmso</th>\n",
       "      <th>baricitib_pdpd</th>\n",
       "      <th>Log_Median_Abundance</th>\n",
       "      <th>Log_StdDev_Abundance</th>\n",
       "    </tr>\n",
       "  </thead>\n",
       "  <tbody>\n",
       "    <tr>\n",
       "      <th>0</th>\n",
       "      <td>5</td>\n",
       "      <td>5</td>\n",
       "      <td>.ESESTAGSFSLSVR.</td>\n",
       "      <td>21292</td>\n",
       "      <td>.ESESTAGSFSLSVR.</td>\n",
       "      <td>7995</td>\n",
       "      <td>8328</td>\n",
       "      <td>7</td>\n",
       "      <td>sp|P06239-2|LCK_HUMAN;sp|P06239-3|LCK_HUMAN;sp...</td>\n",
       "      <td>1456.7</td>\n",
       "      <td>...</td>\n",
       "      <td>1.445455</td>\n",
       "      <td>1.082329</td>\n",
       "      <td>1.158297</td>\n",
       "      <td>1.504993</td>\n",
       "      <td>0.876452</td>\n",
       "      <td>1.023389</td>\n",
       "      <td>1.033800</td>\n",
       "      <td>8137600.0</td>\n",
       "      <td>15.481801</td>\n",
       "      <td>0.856921</td>\n",
       "    </tr>\n",
       "    <tr>\n",
       "      <th>1</th>\n",
       "      <td>7</td>\n",
       "      <td>7</td>\n",
       "      <td>.IQDKEGIPPDQQR.</td>\n",
       "      <td>39596</td>\n",
       "      <td>.IQDKEGIPPDQQR.</td>\n",
       "      <td>6836</td>\n",
       "      <td>6882</td>\n",
       "      <td>7</td>\n",
       "      <td>sp|P0CG47|UBB_HUMAN;sp|P0CG48|UBC_HUMAN;sp|P62...</td>\n",
       "      <td>1523.8</td>\n",
       "      <td>...</td>\n",
       "      <td>1.372086</td>\n",
       "      <td>-0.734915</td>\n",
       "      <td>-0.501744</td>\n",
       "      <td>-0.033770</td>\n",
       "      <td>0.537989</td>\n",
       "      <td>0.604715</td>\n",
       "      <td>0.962047</td>\n",
       "      <td>5830600.0</td>\n",
       "      <td>15.399186</td>\n",
       "      <td>0.905393</td>\n",
       "    </tr>\n",
       "    <tr>\n",
       "      <th>2</th>\n",
       "      <td>11</td>\n",
       "      <td>11</td>\n",
       "      <td>.IFTSIGEDYDER.</td>\n",
       "      <td>36599</td>\n",
       "      <td>.IFTSIGEDYDER.</td>\n",
       "      <td>5284</td>\n",
       "      <td>5412</td>\n",
       "      <td>7</td>\n",
       "      <td>sp|P35232-2|PHB_HUMAN;sp|P35232|PHB_HUMAN;tr|C...</td>\n",
       "      <td>1444.6</td>\n",
       "      <td>...</td>\n",
       "      <td>2.142637</td>\n",
       "      <td>1.195260</td>\n",
       "      <td>0.994538</td>\n",
       "      <td>1.345024</td>\n",
       "      <td>1.867325</td>\n",
       "      <td>1.679094</td>\n",
       "      <td>1.633423</td>\n",
       "      <td>70372000.0</td>\n",
       "      <td>16.354748</td>\n",
       "      <td>1.088943</td>\n",
       "    </tr>\n",
       "    <tr>\n",
       "      <th>3</th>\n",
       "      <td>14</td>\n",
       "      <td>14</td>\n",
       "      <td>.TAVC+57.021DIPPR.</td>\n",
       "      <td>87369</td>\n",
       "      <td>.TAVCDIPPR.</td>\n",
       "      <td>4837</td>\n",
       "      <td>4837</td>\n",
       "      <td>1</td>\n",
       "      <td>sp|A6NNZ2|TBB8B_HUMAN;sp|P04350|TBB4A_HUMAN;sp...</td>\n",
       "      <td>1085.5</td>\n",
       "      <td>...</td>\n",
       "      <td>0.906103</td>\n",
       "      <td>-0.643357</td>\n",
       "      <td>-0.557229</td>\n",
       "      <td>0.259802</td>\n",
       "      <td>0.684262</td>\n",
       "      <td>1.074972</td>\n",
       "      <td>0.149373</td>\n",
       "      <td>3113400.0</td>\n",
       "      <td>14.575469</td>\n",
       "      <td>1.200130</td>\n",
       "    </tr>\n",
       "    <tr>\n",
       "      <th>4</th>\n",
       "      <td>15</td>\n",
       "      <td>15</td>\n",
       "      <td>.IITHPNFNGNTLDNDIMLIK.</td>\n",
       "      <td>37659</td>\n",
       "      <td>.IITHPNFNGNTLDNDIMLIK.</td>\n",
       "      <td>4830</td>\n",
       "      <td>20735</td>\n",
       "      <td>81</td>\n",
       "      <td>TRYP_PIG</td>\n",
       "      <td>2283.2</td>\n",
       "      <td>...</td>\n",
       "      <td>NaN</td>\n",
       "      <td>NaN</td>\n",
       "      <td>NaN</td>\n",
       "      <td>NaN</td>\n",
       "      <td>NaN</td>\n",
       "      <td>NaN</td>\n",
       "      <td>NaN</td>\n",
       "      <td>NaN</td>\n",
       "      <td>17.778331</td>\n",
       "      <td>1.679313</td>\n",
       "    </tr>\n",
       "  </tbody>\n",
       "</table>\n",
       "<p>5 rows × 465 columns</p>\n",
       "</div>"
      ],
      "text/plain": [
       "   rowid  ccms_row_id                 Variant  Variant ID  \\\n",
       "0      5            5        .ESESTAGSFSLSVR.       21292   \n",
       "1      7            7         .IQDKEGIPPDQQR.       39596   \n",
       "2     11           11          .IFTSIGEDYDER.       36599   \n",
       "3     14           14      .TAVC+57.021DIPPR.       87369   \n",
       "4     15           15  .IITHPNFNGNTLDNDIMLIK.       37659   \n",
       "\n",
       "            Unmod variant  Total  Total- Unmodified sequence  \\\n",
       "0        .ESESTAGSFSLSVR.   7995                        8328   \n",
       "1         .IQDKEGIPPDQQR.   6836                        6882   \n",
       "2          .IFTSIGEDYDER.   5284                        5412   \n",
       "3             .TAVCDIPPR.   4837                        4837   \n",
       "4  .IITHPNFNGNTLDNDIMLIK.   4830                       20735   \n",
       "\n",
       "   Variants- Unmodified sequence  \\\n",
       "0                              7   \n",
       "1                              7   \n",
       "2                              7   \n",
       "3                              1   \n",
       "4                             81   \n",
       "\n",
       "                                            Proteins    Mass  ...  \\\n",
       "0  sp|P06239-2|LCK_HUMAN;sp|P06239-3|LCK_HUMAN;sp...  1456.7  ...   \n",
       "1  sp|P0CG47|UBB_HUMAN;sp|P0CG48|UBC_HUMAN;sp|P62...  1523.8  ...   \n",
       "2  sp|P35232-2|PHB_HUMAN;sp|P35232|PHB_HUMAN;tr|C...  1444.6  ...   \n",
       "3  sp|A6NNZ2|TBB8B_HUMAN;sp|P04350|TBB4A_HUMAN;sp...  1085.5  ...   \n",
       "4                                           TRYP_PIG  2283.2  ...   \n",
       "\n",
       "   baricitib_10nm  baricitib_30000nm baricitib_3000nm  baricitib_300nm  \\\n",
       "0        1.445455           1.082329         1.158297         1.504993   \n",
       "1        1.372086          -0.734915        -0.501744        -0.033770   \n",
       "2        2.142637           1.195260         0.994538         1.345024   \n",
       "3        0.906103          -0.643357        -0.557229         0.259802   \n",
       "4             NaN                NaN              NaN              NaN   \n",
       "\n",
       "  baricitib_30nm  baricitib_3nm baricitib_dmso  baricitib_pdpd  \\\n",
       "0       0.876452       1.023389       1.033800       8137600.0   \n",
       "1       0.537989       0.604715       0.962047       5830600.0   \n",
       "2       1.867325       1.679094       1.633423      70372000.0   \n",
       "3       0.684262       1.074972       0.149373       3113400.0   \n",
       "4            NaN            NaN            NaN             NaN   \n",
       "\n",
       "   Log_Median_Abundance Log_StdDev_Abundance  \n",
       "0             15.481801             0.856921  \n",
       "1             15.399186             0.905393  \n",
       "2             16.354748             1.088943  \n",
       "3             14.575469             1.200130  \n",
       "4             17.778331             1.679313  \n",
       "\n",
       "[5 rows x 465 columns]"
      ]
     },
     "execution_count": 177,
     "metadata": {},
     "output_type": "execute_result"
    }
   ],
   "source": [
    "df.head()"
   ]
  },
  {
   "cell_type": "code",
   "execution_count": null,
   "id": "53295c06-d4d9-4d85-994e-c49c21294bb5",
   "metadata": {},
   "outputs": [],
   "source": []
  },
  {
   "cell_type": "code",
   "execution_count": null,
   "id": "afd56e00-6e07-4c2b-b474-915e43e074c9",
   "metadata": {},
   "outputs": [],
   "source": []
  },
  {
   "cell_type": "code",
   "execution_count": null,
   "id": "54ba095b-5dff-44d6-b1af-8deea7844147",
   "metadata": {},
   "outputs": [],
   "source": []
  },
  {
   "cell_type": "code",
   "execution_count": null,
   "id": "02b0f226-d3d7-4057-86d1-3ea69aa37242",
   "metadata": {},
   "outputs": [],
   "source": []
  },
  {
   "cell_type": "code",
   "execution_count": null,
   "id": "86ec54c1-416b-4a83-880e-782e86f85c5f",
   "metadata": {},
   "outputs": [],
   "source": []
  },
  {
   "cell_type": "code",
   "execution_count": null,
   "id": "bb6efb31-edf6-48df-975a-5462f36bc985",
   "metadata": {},
   "outputs": [],
   "source": [
    "import pandas as pd\n",
    "import numpy as np"
   ]
  },
  {
   "cell_type": "code",
   "execution_count": 79,
   "id": "c1940c4c-1e97-4470-bbd3-9f208bdf320e",
   "metadata": {},
   "outputs": [
    {
     "name": "stderr",
     "output_type": "stream",
     "text": [
      "/var/folders/q9/9xm1_d2s70s_3vxtd8hlfv3m0000gn/T/ipykernel_92283/1317422812.py:1: DtypeWarning: Columns (12) have mixed types. Specify dtype option on import or set low_memory=False.\n",
      "  df = pd.read_csv('filtered_data.csv')\n"
     ]
    }
   ],
   "source": [
    "df = pd.read_csv('filtered_data.csv')\n",
    "start_col = 'aew541_1000nm'\n",
    "start_idx = df.columns.get_loc(start_col)\n",
    "drug_columns = df.columns[start_idx:]\n",
    "filtered_drug_columns = [col for col in drug_columns if not col.endswith('_pdpd')]"
   ]
  },
  {
   "cell_type": "code",
   "execution_count": 81,
   "id": "4a15cb3e-b9aa-4f07-b6d2-08fe0e18d4a9",
   "metadata": {},
   "outputs": [
    {
     "data": {
      "text/html": [
       "<div>\n",
       "<style scoped>\n",
       "    .dataframe tbody tr th:only-of-type {\n",
       "        vertical-align: middle;\n",
       "    }\n",
       "\n",
       "    .dataframe tbody tr th {\n",
       "        vertical-align: top;\n",
       "    }\n",
       "\n",
       "    .dataframe thead th {\n",
       "        text-align: right;\n",
       "    }\n",
       "</style>\n",
       "<table border=\"1\" class=\"dataframe\">\n",
       "  <thead>\n",
       "    <tr style=\"text-align: right;\">\n",
       "      <th></th>\n",
       "      <th>rowid</th>\n",
       "      <th>ccms_row_id</th>\n",
       "      <th>Variant</th>\n",
       "      <th>Variant ID</th>\n",
       "      <th>Unmod variant</th>\n",
       "      <th>Total</th>\n",
       "      <th>Total- Unmodified sequence</th>\n",
       "      <th>Variants- Unmodified sequence</th>\n",
       "      <th>Proteins</th>\n",
       "      <th>Mass</th>\n",
       "      <th>...</th>\n",
       "      <th>baricitib_10nm</th>\n",
       "      <th>baricitib_30000nm</th>\n",
       "      <th>baricitib_3000nm</th>\n",
       "      <th>baricitib_300nm</th>\n",
       "      <th>baricitib_30nm</th>\n",
       "      <th>baricitib_3nm</th>\n",
       "      <th>baricitib_dmso</th>\n",
       "      <th>baricitib_pdpd</th>\n",
       "      <th>Protein_List</th>\n",
       "      <th>Protein</th>\n",
       "    </tr>\n",
       "  </thead>\n",
       "  <tbody>\n",
       "    <tr>\n",
       "      <th>0</th>\n",
       "      <td>5</td>\n",
       "      <td>5</td>\n",
       "      <td>.ESESTAGSFSLSVR.</td>\n",
       "      <td>21292</td>\n",
       "      <td>.ESESTAGSFSLSVR.</td>\n",
       "      <td>7995</td>\n",
       "      <td>8328</td>\n",
       "      <td>7</td>\n",
       "      <td>sp|P06239-2|LCK_HUMAN;sp|P06239-3|LCK_HUMAN;sp...</td>\n",
       "      <td>1456.7</td>\n",
       "      <td>...</td>\n",
       "      <td>18264000.0</td>\n",
       "      <td>13380000.0</td>\n",
       "      <td>14280000.0</td>\n",
       "      <td>19220000.0</td>\n",
       "      <td>11216000.0</td>\n",
       "      <td>12721000.0</td>\n",
       "      <td>12835000.0</td>\n",
       "      <td>8137600.0</td>\n",
       "      <td>sp|P06239-2|LCK_HUMAN</td>\n",
       "      <td>LCK_HUMAN</td>\n",
       "    </tr>\n",
       "    <tr>\n",
       "      <th>0</th>\n",
       "      <td>5</td>\n",
       "      <td>5</td>\n",
       "      <td>.ESESTAGSFSLSVR.</td>\n",
       "      <td>21292</td>\n",
       "      <td>.ESESTAGSFSLSVR.</td>\n",
       "      <td>7995</td>\n",
       "      <td>8328</td>\n",
       "      <td>7</td>\n",
       "      <td>sp|P06239-2|LCK_HUMAN;sp|P06239-3|LCK_HUMAN;sp...</td>\n",
       "      <td>1456.7</td>\n",
       "      <td>...</td>\n",
       "      <td>18264000.0</td>\n",
       "      <td>13380000.0</td>\n",
       "      <td>14280000.0</td>\n",
       "      <td>19220000.0</td>\n",
       "      <td>11216000.0</td>\n",
       "      <td>12721000.0</td>\n",
       "      <td>12835000.0</td>\n",
       "      <td>8137600.0</td>\n",
       "      <td>sp|P06239-3|LCK_HUMAN</td>\n",
       "      <td>LCK_HUMAN</td>\n",
       "    </tr>\n",
       "    <tr>\n",
       "      <th>0</th>\n",
       "      <td>5</td>\n",
       "      <td>5</td>\n",
       "      <td>.ESESTAGSFSLSVR.</td>\n",
       "      <td>21292</td>\n",
       "      <td>.ESESTAGSFSLSVR.</td>\n",
       "      <td>7995</td>\n",
       "      <td>8328</td>\n",
       "      <td>7</td>\n",
       "      <td>sp|P06239-2|LCK_HUMAN;sp|P06239-3|LCK_HUMAN;sp...</td>\n",
       "      <td>1456.7</td>\n",
       "      <td>...</td>\n",
       "      <td>18264000.0</td>\n",
       "      <td>13380000.0</td>\n",
       "      <td>14280000.0</td>\n",
       "      <td>19220000.0</td>\n",
       "      <td>11216000.0</td>\n",
       "      <td>12721000.0</td>\n",
       "      <td>12835000.0</td>\n",
       "      <td>8137600.0</td>\n",
       "      <td>sp|P06239|LCK_HUMAN</td>\n",
       "      <td>LCK_HUMAN</td>\n",
       "    </tr>\n",
       "    <tr>\n",
       "      <th>0</th>\n",
       "      <td>5</td>\n",
       "      <td>5</td>\n",
       "      <td>.ESESTAGSFSLSVR.</td>\n",
       "      <td>21292</td>\n",
       "      <td>.ESESTAGSFSLSVR.</td>\n",
       "      <td>7995</td>\n",
       "      <td>8328</td>\n",
       "      <td>7</td>\n",
       "      <td>sp|P06239-2|LCK_HUMAN;sp|P06239-3|LCK_HUMAN;sp...</td>\n",
       "      <td>1456.7</td>\n",
       "      <td>...</td>\n",
       "      <td>18264000.0</td>\n",
       "      <td>13380000.0</td>\n",
       "      <td>14280000.0</td>\n",
       "      <td>19220000.0</td>\n",
       "      <td>11216000.0</td>\n",
       "      <td>12721000.0</td>\n",
       "      <td>12835000.0</td>\n",
       "      <td>8137600.0</td>\n",
       "      <td>tr|E9PAP0|E9PAP0_HUMAN</td>\n",
       "      <td>E9PAP0_HUMAN</td>\n",
       "    </tr>\n",
       "    <tr>\n",
       "      <th>0</th>\n",
       "      <td>5</td>\n",
       "      <td>5</td>\n",
       "      <td>.ESESTAGSFSLSVR.</td>\n",
       "      <td>21292</td>\n",
       "      <td>.ESESTAGSFSLSVR.</td>\n",
       "      <td>7995</td>\n",
       "      <td>8328</td>\n",
       "      <td>7</td>\n",
       "      <td>sp|P06239-2|LCK_HUMAN;sp|P06239-3|LCK_HUMAN;sp...</td>\n",
       "      <td>1456.7</td>\n",
       "      <td>...</td>\n",
       "      <td>18264000.0</td>\n",
       "      <td>13380000.0</td>\n",
       "      <td>14280000.0</td>\n",
       "      <td>19220000.0</td>\n",
       "      <td>11216000.0</td>\n",
       "      <td>12721000.0</td>\n",
       "      <td>12835000.0</td>\n",
       "      <td>8137600.0</td>\n",
       "      <td>tr|E9PJ92|E9PJ92_HUMAN</td>\n",
       "      <td>E9PJ92_HUMAN</td>\n",
       "    </tr>\n",
       "  </tbody>\n",
       "</table>\n",
       "<p>5 rows × 465 columns</p>\n",
       "</div>"
      ],
      "text/plain": [
       "   rowid  ccms_row_id           Variant  Variant ID     Unmod variant  Total  \\\n",
       "0      5            5  .ESESTAGSFSLSVR.       21292  .ESESTAGSFSLSVR.   7995   \n",
       "0      5            5  .ESESTAGSFSLSVR.       21292  .ESESTAGSFSLSVR.   7995   \n",
       "0      5            5  .ESESTAGSFSLSVR.       21292  .ESESTAGSFSLSVR.   7995   \n",
       "0      5            5  .ESESTAGSFSLSVR.       21292  .ESESTAGSFSLSVR.   7995   \n",
       "0      5            5  .ESESTAGSFSLSVR.       21292  .ESESTAGSFSLSVR.   7995   \n",
       "\n",
       "   Total- Unmodified sequence  Variants- Unmodified sequence  \\\n",
       "0                        8328                              7   \n",
       "0                        8328                              7   \n",
       "0                        8328                              7   \n",
       "0                        8328                              7   \n",
       "0                        8328                              7   \n",
       "\n",
       "                                            Proteins    Mass  ...  \\\n",
       "0  sp|P06239-2|LCK_HUMAN;sp|P06239-3|LCK_HUMAN;sp...  1456.7  ...   \n",
       "0  sp|P06239-2|LCK_HUMAN;sp|P06239-3|LCK_HUMAN;sp...  1456.7  ...   \n",
       "0  sp|P06239-2|LCK_HUMAN;sp|P06239-3|LCK_HUMAN;sp...  1456.7  ...   \n",
       "0  sp|P06239-2|LCK_HUMAN;sp|P06239-3|LCK_HUMAN;sp...  1456.7  ...   \n",
       "0  sp|P06239-2|LCK_HUMAN;sp|P06239-3|LCK_HUMAN;sp...  1456.7  ...   \n",
       "\n",
       "   baricitib_10nm  baricitib_30000nm baricitib_3000nm  baricitib_300nm  \\\n",
       "0      18264000.0         13380000.0       14280000.0       19220000.0   \n",
       "0      18264000.0         13380000.0       14280000.0       19220000.0   \n",
       "0      18264000.0         13380000.0       14280000.0       19220000.0   \n",
       "0      18264000.0         13380000.0       14280000.0       19220000.0   \n",
       "0      18264000.0         13380000.0       14280000.0       19220000.0   \n",
       "\n",
       "  baricitib_30nm  baricitib_3nm baricitib_dmso  baricitib_pdpd  \\\n",
       "0     11216000.0     12721000.0     12835000.0       8137600.0   \n",
       "0     11216000.0     12721000.0     12835000.0       8137600.0   \n",
       "0     11216000.0     12721000.0     12835000.0       8137600.0   \n",
       "0     11216000.0     12721000.0     12835000.0       8137600.0   \n",
       "0     11216000.0     12721000.0     12835000.0       8137600.0   \n",
       "\n",
       "             Protein_List       Protein  \n",
       "0   sp|P06239-2|LCK_HUMAN     LCK_HUMAN  \n",
       "0   sp|P06239-3|LCK_HUMAN     LCK_HUMAN  \n",
       "0     sp|P06239|LCK_HUMAN     LCK_HUMAN  \n",
       "0  tr|E9PAP0|E9PAP0_HUMAN  E9PAP0_HUMAN  \n",
       "0  tr|E9PJ92|E9PJ92_HUMAN  E9PJ92_HUMAN  \n",
       "\n",
       "[5 rows x 465 columns]"
      ]
     },
     "execution_count": 81,
     "metadata": {},
     "output_type": "execute_result"
    }
   ],
   "source": [
    "# Parse protein lists and explode\n",
    "df['Protein_List'] = df['Proteins'].str.split(';')\n",
    "df_exploded = df.explode('Protein_List')\n",
    "df_exploded['Protein'] = df_exploded['Protein_List'].str.strip().str.split('|').str[-1]\n",
    "df_exploded.head()"
   ]
  },
  {
   "cell_type": "code",
   "execution_count": 89,
   "id": "c9e86ddb-6ff0-4809-8ec4-f669e2e4ada6",
   "metadata": {},
   "outputs": [
    {
     "data": {
      "text/html": [
       "<div>\n",
       "<style scoped>\n",
       "    .dataframe tbody tr th:only-of-type {\n",
       "        vertical-align: middle;\n",
       "    }\n",
       "\n",
       "    .dataframe tbody tr th {\n",
       "        vertical-align: top;\n",
       "    }\n",
       "\n",
       "    .dataframe thead th {\n",
       "        text-align: right;\n",
       "    }\n",
       "</style>\n",
       "<table border=\"1\" class=\"dataframe\">\n",
       "  <thead>\n",
       "    <tr style=\"text-align: right;\">\n",
       "      <th></th>\n",
       "      <th>Protein</th>\n",
       "      <th>aew541_1000nm</th>\n",
       "      <th>aew541_100nm</th>\n",
       "      <th>aew541_10nm</th>\n",
       "      <th>aew541_30000nm</th>\n",
       "      <th>aew541_3000nm</th>\n",
       "      <th>aew541_300nm</th>\n",
       "      <th>aew541_30nm</th>\n",
       "      <th>aew541_3nm</th>\n",
       "      <th>aew541_dmso</th>\n",
       "      <th>...</th>\n",
       "      <th>barasertibhqpa_dmso</th>\n",
       "      <th>baricitib_1000nm</th>\n",
       "      <th>baricitib_100nm</th>\n",
       "      <th>baricitib_10nm</th>\n",
       "      <th>baricitib_30000nm</th>\n",
       "      <th>baricitib_3000nm</th>\n",
       "      <th>baricitib_300nm</th>\n",
       "      <th>baricitib_30nm</th>\n",
       "      <th>baricitib_3nm</th>\n",
       "      <th>baricitib_dmso</th>\n",
       "    </tr>\n",
       "  </thead>\n",
       "  <tbody>\n",
       "    <tr>\n",
       "      <th>0</th>\n",
       "      <td>1433B_HUMAN</td>\n",
       "      <td>3587700.0</td>\n",
       "      <td>7000700.0</td>\n",
       "      <td>5116200.0</td>\n",
       "      <td>2788900.0</td>\n",
       "      <td>3514250.0</td>\n",
       "      <td>7838000.0</td>\n",
       "      <td>3679200.0</td>\n",
       "      <td>4916000.0</td>\n",
       "      <td>3782300.0</td>\n",
       "      <td>...</td>\n",
       "      <td>2513300.0</td>\n",
       "      <td>5105900.0</td>\n",
       "      <td>13988400.0</td>\n",
       "      <td>18874500.0</td>\n",
       "      <td>4644400.0</td>\n",
       "      <td>6073900.0</td>\n",
       "      <td>10381000.0</td>\n",
       "      <td>13510000.0</td>\n",
       "      <td>7630600.0</td>\n",
       "      <td>12022150.0</td>\n",
       "    </tr>\n",
       "    <tr>\n",
       "      <th>1</th>\n",
       "      <td>1433E_HUMAN</td>\n",
       "      <td>6590750.0</td>\n",
       "      <td>9298300.0</td>\n",
       "      <td>8225800.0</td>\n",
       "      <td>6299800.0</td>\n",
       "      <td>4053200.0</td>\n",
       "      <td>8037700.0</td>\n",
       "      <td>3794600.0</td>\n",
       "      <td>10863000.0</td>\n",
       "      <td>6647500.0</td>\n",
       "      <td>...</td>\n",
       "      <td>4165800.0</td>\n",
       "      <td>4303100.0</td>\n",
       "      <td>13386000.0</td>\n",
       "      <td>17947000.0</td>\n",
       "      <td>6163750.0</td>\n",
       "      <td>5490000.0</td>\n",
       "      <td>5861100.0</td>\n",
       "      <td>12812000.0</td>\n",
       "      <td>7482150.0</td>\n",
       "      <td>11721500.0</td>\n",
       "    </tr>\n",
       "    <tr>\n",
       "      <th>2</th>\n",
       "      <td>1433F_HUMAN</td>\n",
       "      <td>3865350.0</td>\n",
       "      <td>6869150.0</td>\n",
       "      <td>4436400.0</td>\n",
       "      <td>2009980.0</td>\n",
       "      <td>5323675.0</td>\n",
       "      <td>6349610.0</td>\n",
       "      <td>2038605.0</td>\n",
       "      <td>4497950.0</td>\n",
       "      <td>4803100.0</td>\n",
       "      <td>...</td>\n",
       "      <td>5465450.0</td>\n",
       "      <td>3163300.0</td>\n",
       "      <td>15132100.0</td>\n",
       "      <td>20634950.0</td>\n",
       "      <td>4242100.0</td>\n",
       "      <td>4009650.0</td>\n",
       "      <td>6221000.0</td>\n",
       "      <td>13730400.0</td>\n",
       "      <td>9627450.0</td>\n",
       "      <td>16413150.0</td>\n",
       "    </tr>\n",
       "    <tr>\n",
       "      <th>3</th>\n",
       "      <td>1433G_HUMAN</td>\n",
       "      <td>5043800.0</td>\n",
       "      <td>9940000.0</td>\n",
       "      <td>9571800.0</td>\n",
       "      <td>4861800.0</td>\n",
       "      <td>7088900.0</td>\n",
       "      <td>8931600.0</td>\n",
       "      <td>4699600.0</td>\n",
       "      <td>9715200.0</td>\n",
       "      <td>12187000.0</td>\n",
       "      <td>...</td>\n",
       "      <td>3462750.0</td>\n",
       "      <td>5164600.0</td>\n",
       "      <td>9335900.0</td>\n",
       "      <td>14570700.0</td>\n",
       "      <td>7138700.0</td>\n",
       "      <td>8466000.0</td>\n",
       "      <td>13131000.0</td>\n",
       "      <td>12653000.0</td>\n",
       "      <td>8595000.0</td>\n",
       "      <td>7797350.0</td>\n",
       "    </tr>\n",
       "    <tr>\n",
       "      <th>4</th>\n",
       "      <td>1433S_HUMAN</td>\n",
       "      <td>NaN</td>\n",
       "      <td>NaN</td>\n",
       "      <td>NaN</td>\n",
       "      <td>NaN</td>\n",
       "      <td>NaN</td>\n",
       "      <td>NaN</td>\n",
       "      <td>NaN</td>\n",
       "      <td>NaN</td>\n",
       "      <td>NaN</td>\n",
       "      <td>...</td>\n",
       "      <td>1007400.0</td>\n",
       "      <td>NaN</td>\n",
       "      <td>NaN</td>\n",
       "      <td>NaN</td>\n",
       "      <td>NaN</td>\n",
       "      <td>NaN</td>\n",
       "      <td>NaN</td>\n",
       "      <td>NaN</td>\n",
       "      <td>NaN</td>\n",
       "      <td>NaN</td>\n",
       "    </tr>\n",
       "  </tbody>\n",
       "</table>\n",
       "<p>5 rows × 388 columns</p>\n",
       "</div>"
      ],
      "text/plain": [
       "       Protein  aew541_1000nm  aew541_100nm  aew541_10nm  aew541_30000nm  \\\n",
       "0  1433B_HUMAN      3587700.0     7000700.0    5116200.0       2788900.0   \n",
       "1  1433E_HUMAN      6590750.0     9298300.0    8225800.0       6299800.0   \n",
       "2  1433F_HUMAN      3865350.0     6869150.0    4436400.0       2009980.0   \n",
       "3  1433G_HUMAN      5043800.0     9940000.0    9571800.0       4861800.0   \n",
       "4  1433S_HUMAN            NaN           NaN          NaN             NaN   \n",
       "\n",
       "   aew541_3000nm  aew541_300nm  aew541_30nm  aew541_3nm  aew541_dmso  ...  \\\n",
       "0      3514250.0     7838000.0    3679200.0   4916000.0    3782300.0  ...   \n",
       "1      4053200.0     8037700.0    3794600.0  10863000.0    6647500.0  ...   \n",
       "2      5323675.0     6349610.0    2038605.0   4497950.0    4803100.0  ...   \n",
       "3      7088900.0     8931600.0    4699600.0   9715200.0   12187000.0  ...   \n",
       "4            NaN           NaN          NaN         NaN          NaN  ...   \n",
       "\n",
       "   barasertibhqpa_dmso  baricitib_1000nm  baricitib_100nm  baricitib_10nm  \\\n",
       "0            2513300.0         5105900.0       13988400.0      18874500.0   \n",
       "1            4165800.0         4303100.0       13386000.0      17947000.0   \n",
       "2            5465450.0         3163300.0       15132100.0      20634950.0   \n",
       "3            3462750.0         5164600.0        9335900.0      14570700.0   \n",
       "4            1007400.0               NaN              NaN             NaN   \n",
       "\n",
       "   baricitib_30000nm  baricitib_3000nm  baricitib_300nm  baricitib_30nm  \\\n",
       "0          4644400.0         6073900.0       10381000.0      13510000.0   \n",
       "1          6163750.0         5490000.0        5861100.0      12812000.0   \n",
       "2          4242100.0         4009650.0        6221000.0      13730400.0   \n",
       "3          7138700.0         8466000.0       13131000.0      12653000.0   \n",
       "4                NaN               NaN              NaN             NaN   \n",
       "\n",
       "   baricitib_3nm  baricitib_dmso  \n",
       "0      7630600.0      12022150.0  \n",
       "1      7482150.0      11721500.0  \n",
       "2      9627450.0      16413150.0  \n",
       "3      8595000.0       7797350.0  \n",
       "4            NaN             NaN  \n",
       "\n",
       "[5 rows x 388 columns]"
      ]
     },
     "execution_count": 89,
     "metadata": {},
     "output_type": "execute_result"
    }
   ],
   "source": [
    "# Group by protein and calculate median across peptides\n",
    "protein_abundance = df_exploded.groupby('Protein')[filtered_drug_columns].median().reset_index()\n",
    "protein_abundance.head()"
   ]
  },
  {
   "cell_type": "code",
   "execution_count": 91,
   "id": "8f3338bc-1d74-42a4-a5b8-2b81a5138911",
   "metadata": {},
   "outputs": [
    {
     "data": {
      "text/html": [
       "<div>\n",
       "<style scoped>\n",
       "    .dataframe tbody tr th:only-of-type {\n",
       "        vertical-align: middle;\n",
       "    }\n",
       "\n",
       "    .dataframe tbody tr th {\n",
       "        vertical-align: top;\n",
       "    }\n",
       "\n",
       "    .dataframe thead th {\n",
       "        text-align: right;\n",
       "    }\n",
       "</style>\n",
       "<table border=\"1\" class=\"dataframe\">\n",
       "  <thead>\n",
       "    <tr style=\"text-align: right;\">\n",
       "      <th></th>\n",
       "      <th>Protein</th>\n",
       "      <th>aew541_1000nm</th>\n",
       "      <th>aew541_100nm</th>\n",
       "      <th>aew541_10nm</th>\n",
       "      <th>aew541_30000nm</th>\n",
       "      <th>aew541_3000nm</th>\n",
       "      <th>aew541_300nm</th>\n",
       "      <th>aew541_30nm</th>\n",
       "      <th>aew541_3nm</th>\n",
       "      <th>aew541_dmso</th>\n",
       "      <th>...</th>\n",
       "      <th>baricitib_10nm</th>\n",
       "      <th>baricitib_30000nm</th>\n",
       "      <th>baricitib_3000nm</th>\n",
       "      <th>baricitib_300nm</th>\n",
       "      <th>baricitib_30nm</th>\n",
       "      <th>baricitib_3nm</th>\n",
       "      <th>baricitib_dmso</th>\n",
       "      <th>Mean_Abundance</th>\n",
       "      <th>Median_Abundance</th>\n",
       "      <th>StdDev_Abundance</th>\n",
       "    </tr>\n",
       "  </thead>\n",
       "  <tbody>\n",
       "    <tr>\n",
       "      <th>0</th>\n",
       "      <td>1433B_HUMAN</td>\n",
       "      <td>3587700.0</td>\n",
       "      <td>7000700.0</td>\n",
       "      <td>5116200.0</td>\n",
       "      <td>2788900.0</td>\n",
       "      <td>3514250.0</td>\n",
       "      <td>7838000.0</td>\n",
       "      <td>3679200.0</td>\n",
       "      <td>4916000.0</td>\n",
       "      <td>3782300.0</td>\n",
       "      <td>...</td>\n",
       "      <td>18874500.0</td>\n",
       "      <td>4644400.0</td>\n",
       "      <td>6073900.0</td>\n",
       "      <td>10381000.0</td>\n",
       "      <td>13510000.0</td>\n",
       "      <td>7630600.0</td>\n",
       "      <td>12022150.0</td>\n",
       "      <td>5.631055e+06</td>\n",
       "      <td>3115550.0</td>\n",
       "      <td>7.630601e+06</td>\n",
       "    </tr>\n",
       "    <tr>\n",
       "      <th>1</th>\n",
       "      <td>1433E_HUMAN</td>\n",
       "      <td>6590750.0</td>\n",
       "      <td>9298300.0</td>\n",
       "      <td>8225800.0</td>\n",
       "      <td>6299800.0</td>\n",
       "      <td>4053200.0</td>\n",
       "      <td>8037700.0</td>\n",
       "      <td>3794600.0</td>\n",
       "      <td>10863000.0</td>\n",
       "      <td>6647500.0</td>\n",
       "      <td>...</td>\n",
       "      <td>17947000.0</td>\n",
       "      <td>6163750.0</td>\n",
       "      <td>5490000.0</td>\n",
       "      <td>5861100.0</td>\n",
       "      <td>12812000.0</td>\n",
       "      <td>7482150.0</td>\n",
       "      <td>11721500.0</td>\n",
       "      <td>6.284524e+06</td>\n",
       "      <td>3937475.0</td>\n",
       "      <td>1.204857e+07</td>\n",
       "    </tr>\n",
       "    <tr>\n",
       "      <th>2</th>\n",
       "      <td>1433F_HUMAN</td>\n",
       "      <td>3865350.0</td>\n",
       "      <td>6869150.0</td>\n",
       "      <td>4436400.0</td>\n",
       "      <td>2009980.0</td>\n",
       "      <td>5323675.0</td>\n",
       "      <td>6349610.0</td>\n",
       "      <td>2038605.0</td>\n",
       "      <td>4497950.0</td>\n",
       "      <td>4803100.0</td>\n",
       "      <td>...</td>\n",
       "      <td>20634950.0</td>\n",
       "      <td>4242100.0</td>\n",
       "      <td>4009650.0</td>\n",
       "      <td>6221000.0</td>\n",
       "      <td>13730400.0</td>\n",
       "      <td>9627450.0</td>\n",
       "      <td>16413150.0</td>\n",
       "      <td>4.470106e+06</td>\n",
       "      <td>2098100.0</td>\n",
       "      <td>1.070048e+07</td>\n",
       "    </tr>\n",
       "    <tr>\n",
       "      <th>3</th>\n",
       "      <td>1433G_HUMAN</td>\n",
       "      <td>5043800.0</td>\n",
       "      <td>9940000.0</td>\n",
       "      <td>9571800.0</td>\n",
       "      <td>4861800.0</td>\n",
       "      <td>7088900.0</td>\n",
       "      <td>8931600.0</td>\n",
       "      <td>4699600.0</td>\n",
       "      <td>9715200.0</td>\n",
       "      <td>12187000.0</td>\n",
       "      <td>...</td>\n",
       "      <td>14570700.0</td>\n",
       "      <td>7138700.0</td>\n",
       "      <td>8466000.0</td>\n",
       "      <td>13131000.0</td>\n",
       "      <td>12653000.0</td>\n",
       "      <td>8595000.0</td>\n",
       "      <td>7797350.0</td>\n",
       "      <td>6.773007e+06</td>\n",
       "      <td>4469825.0</td>\n",
       "      <td>8.049686e+06</td>\n",
       "    </tr>\n",
       "    <tr>\n",
       "      <th>4</th>\n",
       "      <td>1433S_HUMAN</td>\n",
       "      <td>NaN</td>\n",
       "      <td>NaN</td>\n",
       "      <td>NaN</td>\n",
       "      <td>NaN</td>\n",
       "      <td>NaN</td>\n",
       "      <td>NaN</td>\n",
       "      <td>NaN</td>\n",
       "      <td>NaN</td>\n",
       "      <td>NaN</td>\n",
       "      <td>...</td>\n",
       "      <td>NaN</td>\n",
       "      <td>NaN</td>\n",
       "      <td>NaN</td>\n",
       "      <td>NaN</td>\n",
       "      <td>NaN</td>\n",
       "      <td>NaN</td>\n",
       "      <td>NaN</td>\n",
       "      <td>5.662346e+06</td>\n",
       "      <td>2271500.0</td>\n",
       "      <td>9.272627e+06</td>\n",
       "    </tr>\n",
       "  </tbody>\n",
       "</table>\n",
       "<p>5 rows × 391 columns</p>\n",
       "</div>"
      ],
      "text/plain": [
       "       Protein  aew541_1000nm  aew541_100nm  aew541_10nm  aew541_30000nm  \\\n",
       "0  1433B_HUMAN      3587700.0     7000700.0    5116200.0       2788900.0   \n",
       "1  1433E_HUMAN      6590750.0     9298300.0    8225800.0       6299800.0   \n",
       "2  1433F_HUMAN      3865350.0     6869150.0    4436400.0       2009980.0   \n",
       "3  1433G_HUMAN      5043800.0     9940000.0    9571800.0       4861800.0   \n",
       "4  1433S_HUMAN            NaN           NaN          NaN             NaN   \n",
       "\n",
       "   aew541_3000nm  aew541_300nm  aew541_30nm  aew541_3nm  aew541_dmso  ...  \\\n",
       "0      3514250.0     7838000.0    3679200.0   4916000.0    3782300.0  ...   \n",
       "1      4053200.0     8037700.0    3794600.0  10863000.0    6647500.0  ...   \n",
       "2      5323675.0     6349610.0    2038605.0   4497950.0    4803100.0  ...   \n",
       "3      7088900.0     8931600.0    4699600.0   9715200.0   12187000.0  ...   \n",
       "4            NaN           NaN          NaN         NaN          NaN  ...   \n",
       "\n",
       "   baricitib_10nm  baricitib_30000nm  baricitib_3000nm  baricitib_300nm  \\\n",
       "0      18874500.0          4644400.0         6073900.0       10381000.0   \n",
       "1      17947000.0          6163750.0         5490000.0        5861100.0   \n",
       "2      20634950.0          4242100.0         4009650.0        6221000.0   \n",
       "3      14570700.0          7138700.0         8466000.0       13131000.0   \n",
       "4             NaN                NaN               NaN              NaN   \n",
       "\n",
       "   baricitib_30nm  baricitib_3nm  baricitib_dmso  Mean_Abundance  \\\n",
       "0      13510000.0      7630600.0      12022150.0    5.631055e+06   \n",
       "1      12812000.0      7482150.0      11721500.0    6.284524e+06   \n",
       "2      13730400.0      9627450.0      16413150.0    4.470106e+06   \n",
       "3      12653000.0      8595000.0       7797350.0    6.773007e+06   \n",
       "4             NaN            NaN             NaN    5.662346e+06   \n",
       "\n",
       "   Median_Abundance  StdDev_Abundance  \n",
       "0         3115550.0      7.630601e+06  \n",
       "1         3937475.0      1.204857e+07  \n",
       "2         2098100.0      1.070048e+07  \n",
       "3         4469825.0      8.049686e+06  \n",
       "4         2271500.0      9.272627e+06  \n",
       "\n",
       "[5 rows x 391 columns]"
      ]
     },
     "execution_count": 91,
     "metadata": {},
     "output_type": "execute_result"
    }
   ],
   "source": [
    "# Step 4: Compute per-protein statistics\n",
    "protein_abundance['Mean_Abundance'] = protein_abundance[filtered_drug_columns].mean(axis=1, skipna=True)\n",
    "protein_abundance['Median_Abundance'] = protein_abundance[filtered_drug_columns].median(axis=1, skipna=True)\n",
    "protein_abundance['StdDev_Abundance'] = protein_abundance[filtered_drug_columns].std(axis=1, skipna=True)\n",
    "\n",
    "protein_abundance.head()"
   ]
  },
  {
   "cell_type": "code",
   "execution_count": 93,
   "id": "d5e80e9c-8634-4627-8783-2b6976799040",
   "metadata": {},
   "outputs": [
    {
     "data": {
      "text/html": [
       "<div>\n",
       "<style scoped>\n",
       "    .dataframe tbody tr th:only-of-type {\n",
       "        vertical-align: middle;\n",
       "    }\n",
       "\n",
       "    .dataframe tbody tr th {\n",
       "        vertical-align: top;\n",
       "    }\n",
       "\n",
       "    .dataframe thead th {\n",
       "        text-align: right;\n",
       "    }\n",
       "</style>\n",
       "<table border=\"1\" class=\"dataframe\">\n",
       "  <thead>\n",
       "    <tr style=\"text-align: right;\">\n",
       "      <th></th>\n",
       "      <th>Protein</th>\n",
       "      <th>aew541_1000nm</th>\n",
       "      <th>aew541_100nm</th>\n",
       "      <th>aew541_10nm</th>\n",
       "      <th>aew541_30000nm</th>\n",
       "      <th>aew541_3000nm</th>\n",
       "      <th>aew541_300nm</th>\n",
       "      <th>aew541_30nm</th>\n",
       "      <th>aew541_3nm</th>\n",
       "      <th>aew541_dmso</th>\n",
       "      <th>...</th>\n",
       "      <th>baricitib_10nm</th>\n",
       "      <th>baricitib_30000nm</th>\n",
       "      <th>baricitib_3000nm</th>\n",
       "      <th>baricitib_300nm</th>\n",
       "      <th>baricitib_30nm</th>\n",
       "      <th>baricitib_3nm</th>\n",
       "      <th>baricitib_dmso</th>\n",
       "      <th>Mean_Abundance</th>\n",
       "      <th>Median_Abundance</th>\n",
       "      <th>StdDev_Abundance</th>\n",
       "    </tr>\n",
       "  </thead>\n",
       "  <tbody>\n",
       "    <tr>\n",
       "      <th>0</th>\n",
       "      <td>1433B_HUMAN</td>\n",
       "      <td>0.141106</td>\n",
       "      <td>0.809604</td>\n",
       "      <td>0.496006</td>\n",
       "      <td>-0.110758</td>\n",
       "      <td>0.120420</td>\n",
       "      <td>0.922578</td>\n",
       "      <td>0.166290</td>\n",
       "      <td>0.456089</td>\n",
       "      <td>0.193927</td>\n",
       "      <td>...</td>\n",
       "      <td>1.801406</td>\n",
       "      <td>0.399256</td>\n",
       "      <td>0.667595</td>\n",
       "      <td>1.203572</td>\n",
       "      <td>1.467024</td>\n",
       "      <td>0.895761</td>\n",
       "      <td>1.350345</td>\n",
       "      <td>5.631055e+06</td>\n",
       "      <td>3115550.0</td>\n",
       "      <td>7.630601e+06</td>\n",
       "    </tr>\n",
       "    <tr>\n",
       "      <th>1</th>\n",
       "      <td>1433E_HUMAN</td>\n",
       "      <td>0.515127</td>\n",
       "      <td>0.859292</td>\n",
       "      <td>0.736736</td>\n",
       "      <td>0.469978</td>\n",
       "      <td>0.028967</td>\n",
       "      <td>0.713603</td>\n",
       "      <td>-0.036961</td>\n",
       "      <td>1.014823</td>\n",
       "      <td>0.523701</td>\n",
       "      <td>...</td>\n",
       "      <td>1.516883</td>\n",
       "      <td>0.448146</td>\n",
       "      <td>0.332389</td>\n",
       "      <td>0.397798</td>\n",
       "      <td>1.179843</td>\n",
       "      <td>0.641981</td>\n",
       "      <td>1.090885</td>\n",
       "      <td>6.284524e+06</td>\n",
       "      <td>3937475.0</td>\n",
       "      <td>1.204857e+07</td>\n",
       "    </tr>\n",
       "    <tr>\n",
       "      <th>2</th>\n",
       "      <td>1433F_HUMAN</td>\n",
       "      <td>0.611020</td>\n",
       "      <td>1.186008</td>\n",
       "      <td>0.748811</td>\n",
       "      <td>-0.042907</td>\n",
       "      <td>0.931132</td>\n",
       "      <td>1.107361</td>\n",
       "      <td>-0.028766</td>\n",
       "      <td>0.762590</td>\n",
       "      <td>0.828229</td>\n",
       "      <td>...</td>\n",
       "      <td>2.285954</td>\n",
       "      <td>0.704026</td>\n",
       "      <td>0.647672</td>\n",
       "      <td>1.086898</td>\n",
       "      <td>1.878580</td>\n",
       "      <td>1.523586</td>\n",
       "      <td>2.057051</td>\n",
       "      <td>4.470106e+06</td>\n",
       "      <td>2098100.0</td>\n",
       "      <td>1.070048e+07</td>\n",
       "    </tr>\n",
       "    <tr>\n",
       "      <th>3</th>\n",
       "      <td>1433G_HUMAN</td>\n",
       "      <td>0.120811</td>\n",
       "      <td>0.799218</td>\n",
       "      <td>0.761472</td>\n",
       "      <td>0.084059</td>\n",
       "      <td>0.461181</td>\n",
       "      <td>0.692246</td>\n",
       "      <td>0.050128</td>\n",
       "      <td>0.776342</td>\n",
       "      <td>1.003021</td>\n",
       "      <td>...</td>\n",
       "      <td>1.181663</td>\n",
       "      <td>0.468181</td>\n",
       "      <td>0.638709</td>\n",
       "      <td>1.077627</td>\n",
       "      <td>1.040545</td>\n",
       "      <td>0.653831</td>\n",
       "      <td>0.556435</td>\n",
       "      <td>6.773007e+06</td>\n",
       "      <td>4469825.0</td>\n",
       "      <td>8.049686e+06</td>\n",
       "    </tr>\n",
       "    <tr>\n",
       "      <th>4</th>\n",
       "      <td>1433S_HUMAN</td>\n",
       "      <td>NaN</td>\n",
       "      <td>NaN</td>\n",
       "      <td>NaN</td>\n",
       "      <td>NaN</td>\n",
       "      <td>NaN</td>\n",
       "      <td>NaN</td>\n",
       "      <td>NaN</td>\n",
       "      <td>NaN</td>\n",
       "      <td>NaN</td>\n",
       "      <td>...</td>\n",
       "      <td>NaN</td>\n",
       "      <td>NaN</td>\n",
       "      <td>NaN</td>\n",
       "      <td>NaN</td>\n",
       "      <td>NaN</td>\n",
       "      <td>NaN</td>\n",
       "      <td>NaN</td>\n",
       "      <td>5.662346e+06</td>\n",
       "      <td>2271500.0</td>\n",
       "      <td>9.272627e+06</td>\n",
       "    </tr>\n",
       "  </tbody>\n",
       "</table>\n",
       "<p>5 rows × 391 columns</p>\n",
       "</div>"
      ],
      "text/plain": [
       "       Protein  aew541_1000nm  aew541_100nm  aew541_10nm  aew541_30000nm  \\\n",
       "0  1433B_HUMAN       0.141106      0.809604     0.496006       -0.110758   \n",
       "1  1433E_HUMAN       0.515127      0.859292     0.736736        0.469978   \n",
       "2  1433F_HUMAN       0.611020      1.186008     0.748811       -0.042907   \n",
       "3  1433G_HUMAN       0.120811      0.799218     0.761472        0.084059   \n",
       "4  1433S_HUMAN            NaN           NaN          NaN             NaN   \n",
       "\n",
       "   aew541_3000nm  aew541_300nm  aew541_30nm  aew541_3nm  aew541_dmso  ...  \\\n",
       "0       0.120420      0.922578     0.166290    0.456089     0.193927  ...   \n",
       "1       0.028967      0.713603    -0.036961    1.014823     0.523701  ...   \n",
       "2       0.931132      1.107361    -0.028766    0.762590     0.828229  ...   \n",
       "3       0.461181      0.692246     0.050128    0.776342     1.003021  ...   \n",
       "4            NaN           NaN          NaN         NaN          NaN  ...   \n",
       "\n",
       "   baricitib_10nm  baricitib_30000nm  baricitib_3000nm  baricitib_300nm  \\\n",
       "0        1.801406           0.399256          0.667595         1.203572   \n",
       "1        1.516883           0.448146          0.332389         0.397798   \n",
       "2        2.285954           0.704026          0.647672         1.086898   \n",
       "3        1.181663           0.468181          0.638709         1.077627   \n",
       "4             NaN                NaN               NaN              NaN   \n",
       "\n",
       "   baricitib_30nm  baricitib_3nm  baricitib_dmso  Mean_Abundance  \\\n",
       "0        1.467024       0.895761        1.350345    5.631055e+06   \n",
       "1        1.179843       0.641981        1.090885    6.284524e+06   \n",
       "2        1.878580       1.523586        2.057051    4.470106e+06   \n",
       "3        1.040545       0.653831        0.556435    6.773007e+06   \n",
       "4             NaN            NaN             NaN    5.662346e+06   \n",
       "\n",
       "   Median_Abundance  StdDev_Abundance  \n",
       "0         3115550.0      7.630601e+06  \n",
       "1         3937475.0      1.204857e+07  \n",
       "2         2098100.0      1.070048e+07  \n",
       "3         4469825.0      8.049686e+06  \n",
       "4         2271500.0      9.272627e+06  \n",
       "\n",
       "[5 rows x 391 columns]"
      ]
     },
     "execution_count": 93,
     "metadata": {},
     "output_type": "execute_result"
    }
   ],
   "source": [
    "# Normalize by protein median and log transform\n",
    "for col in filtered_drug_columns:\n",
    "    protein_abundance[col] = np.where(\n",
    "        protein_abundance['Median_Abundance'] > 0,\n",
    "        np.log(protein_abundance[col] / protein_abundance['Median_Abundance']),\n",
    "        np.nan\n",
    "    )\n",
    "protein_abundance.head()"
   ]
  },
  {
   "cell_type": "code",
   "execution_count": 95,
   "id": "1f5560e9-0a8b-49ae-b9ac-f3d84415016c",
   "metadata": {},
   "outputs": [],
   "source": [
    "# protein_abundance.to_csv('protein_level_log_ratio_abundance.csv', index=False)"
   ]
  },
  {
   "cell_type": "code",
   "execution_count": null,
   "id": "665aa86c-2fc1-4236-95ac-025a890596d4",
   "metadata": {},
   "outputs": [],
   "source": []
  }
 ],
 "metadata": {
  "kernelspec": {
   "display_name": "Python 3 (ipykernel)",
   "language": "python",
   "name": "python3"
  },
  "language_info": {
   "codemirror_mode": {
    "name": "ipython",
    "version": 3
   },
   "file_extension": ".py",
   "mimetype": "text/x-python",
   "name": "python",
   "nbconvert_exporter": "python",
   "pygments_lexer": "ipython3",
   "version": "3.12.2"
  }
 },
 "nbformat": 4,
 "nbformat_minor": 5
}
